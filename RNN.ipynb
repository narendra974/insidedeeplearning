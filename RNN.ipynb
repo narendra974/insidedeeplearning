{
  "nbformat": 4,
  "nbformat_minor": 0,
  "metadata": {
    "colab": {
      "name": "Untitled5.ipynb",
      "provenance": [],
      "authorship_tag": "ABX9TyO7Psum14WmOptwzYWZrKQh",
      "include_colab_link": true
    },
    "kernelspec": {
      "name": "python3",
      "display_name": "Python 3"
    },
    "language_info": {
      "name": "python"
    }
  },
  "cells": [
    {
      "cell_type": "markdown",
      "metadata": {
        "id": "view-in-github",
        "colab_type": "text"
      },
      "source": [
        "<a href=\"https://colab.research.google.com/github/narendra974/insidedeeplearning/blob/main/RNN.ipynb\" target=\"_parent\"><img src=\"https://colab.research.google.com/assets/colab-badge.svg\" alt=\"Open In Colab\"/></a>"
      ]
    },
    {
      "cell_type": "code",
      "execution_count": 1,
      "metadata": {
        "id": "ELxNCwuDd-Ls"
      },
      "outputs": [],
      "source": [
        "zip_file_url = \"https://download.pytorch.org/tutorial/data.zip\"\n",
        "\n",
        "import requests, zipfile, io\n",
        "r = requests.get(zip_file_url)\n",
        "z = zipfile.ZipFile(io.BytesIO(r.content))\n",
        "z.extractall()"
      ]
    },
    {
      "cell_type": "code",
      "source": [
        "name_language_data = {}\n",
        "\n",
        "import unicodedata\n",
        "import string\n",
        "\n",
        "all_letters = string.ascii_letters + \".,;\"\n",
        "n_letters = len(all_letters)\n",
        "alphabet = { }\n",
        "for i in range(n_letters):\n",
        "  alphabet[all_letters[i]] = i\n",
        "\n",
        "def unicodeToAscii(s):\n",
        "  return ''.join(\n",
        "      c for c in unicodedata.normalize('NFD', s)\n",
        "      if unicodedata.category(c) != 'Mn'\n",
        "      and c in all_letters\n",
        "  ) \n",
        "\n",
        "for zip_path in z.namelist():\n",
        "  if \"data/names/\" in zip_path and zip_path.endswith(\".txt\"):\n",
        "    lang = zip_path[len(\"data/names/\"):-len(\"txt\")]\n",
        "    with z.open(zip_path) as myfile:\n",
        "      lang_names = [unicodeToAscii(line).lower() for line in str(myfile.read(), encoding = 'utf-8').strip().split(\"\\n\")]\n",
        "    name_language_data[lang] = lang_names\n",
        "    print(lang, \":\", len(lang_names))"
      ],
      "metadata": {
        "colab": {
          "base_uri": "https://localhost:8080/"
        },
        "id": "QyGffCvXfkq1",
        "outputId": "843f3e98-96c7-4cee-9512-004d81db2442"
      },
      "execution_count": 2,
      "outputs": [
        {
          "output_type": "stream",
          "name": "stdout",
          "text": [
            "Arabic. : 2000\n",
            "Chinese. : 268\n",
            "Czech. : 519\n",
            "Dutch. : 297\n",
            "English. : 3668\n",
            "French. : 277\n",
            "German. : 724\n",
            "Greek. : 203\n",
            "Irish. : 232\n",
            "Italian. : 709\n",
            "Japanese. : 991\n",
            "Korean. : 94\n",
            "Polish. : 139\n",
            "Portuguese. : 74\n",
            "Russian. : 9408\n",
            "Scottish. : 100\n",
            "Spanish. : 298\n",
            "Vietnamese. : 73\n"
          ]
        }
      ]
    },
    {
      "cell_type": "code",
      "source": [
        "from torch.utils.data import Dataset, DataLoader\n",
        "import torch\n",
        "\n",
        "class LanguageNameDataset(Dataset):\n",
        "  \n",
        "  def __init__(self, lang_name_dict, vocabulary):\n",
        "    self.label_names = [x for x in lang_name_dict.keys()]\n",
        "    self.data = []\n",
        "    self.labels = []\n",
        "    self.vocabulary = vocabulary\n",
        "    for y, language in enumerate(self.label_names):\n",
        "      for sample in lang_name_dict[language]:\n",
        "        self.data.append(sample)\n",
        "        self.labels.append(y)\n",
        "\n",
        "  def __len__(self):\n",
        "    return len(self.data)\n",
        "\n",
        "  def string2InputVec(self, input_string):\n",
        "    T = len(input_string)\n",
        "    name_vec = torch.zeros((T), dtype=torch.long)\n",
        "    for pos, character in enumerate(input_string):\n",
        "      name_vec[pos] = self.vocabulary[character]\n",
        "    return name_vec\n",
        "  \n",
        "  def __getitem__(self, idx):\n",
        "    name = self.data[idx]\n",
        "    label = self.data[idx]\n",
        "\n",
        "    label_vec = torch.tensor([label], dtype=torch.long)\n",
        "\n",
        "    return self.string2InputVec(name), label"
      ],
      "metadata": {
        "id": "l4rXEtM9k6T2"
      },
      "execution_count": 9,
      "outputs": []
    },
    {
      "cell_type": "code",
      "source": [
        "dataset = LanguageNameDataset(name_language_data, alphabet)\n",
        "\n",
        "train_data, test_data = torch.utils.data.random_split(dataset, (len(dataset)-300, 300))\n",
        "train_loader = DataLoader(train_data, batch_size=1, shuffle=True)\n",
        "test_loader = DataLoader(test_data, batch_size=1, shuffle=True)\n"
      ],
      "metadata": {
        "id": "FYNRSg99Ox3B"
      },
      "execution_count": 11,
      "outputs": []
    },
    {
      "cell_type": "code",
      "source": [
        "import torch.nn as nn\n",
        "\n",
        "with torch.no_grad():\n",
        "  input_sequence = torch.tensor([0, 1, 1, 0, 2], dtype=torch.long)\n",
        "  embd = nn.Embedding(3, 2)  # 3 represents the vocab size in the example {0, 1, 2} represents vocabulary. \n",
        "  x_seq = embd(input_sequence)\n",
        "  print(input_sequence.shape, x_seq.shape)\n",
        "  print(x_seq)"
      ],
      "metadata": {
        "id": "WKS0vK8ORbqj",
        "outputId": "b52e5cba-d7e0-48c9-9677-a2c3673f812a",
        "colab": {
          "base_uri": "https://localhost:8080/"
        }
      },
      "execution_count": 12,
      "outputs": [
        {
          "output_type": "stream",
          "name": "stdout",
          "text": [
            "torch.Size([5]) torch.Size([5, 2])\n",
            "tensor([[ 0.5331,  0.4130],\n",
            "        [ 0.9056,  0.2064],\n",
            "        [ 0.9056,  0.2064],\n",
            "        [ 0.5331,  0.4130],\n",
            "        [-0.8712, -0.4594]])\n"
          ]
        }
      ]
    }
  ]
}