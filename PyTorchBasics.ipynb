{
  "nbformat": 4,
  "nbformat_minor": 0,
  "metadata": {
    "colab": {
      "name": "PyTorchBasics.ipynb",
      "provenance": [],
      "authorship_tag": "ABX9TyP7HV1SEkMRV0vjI3FTr+NE",
      "include_colab_link": true
    },
    "kernelspec": {
      "name": "python3",
      "display_name": "Python 3"
    },
    "language_info": {
      "name": "python"
    },
    "accelerator": "GPU"
  },
  "cells": [
    {
      "cell_type": "markdown",
      "metadata": {
        "id": "view-in-github",
        "colab_type": "text"
      },
      "source": [
        "<a href=\"https://colab.research.google.com/github/narendra974/insidedeeplearning/blob/main/PyTorchBasics.ipynb\" target=\"_parent\"><img src=\"https://colab.research.google.com/assets/colab-badge.svg\" alt=\"Open In Colab\"/></a>"
      ]
    },
    {
      "cell_type": "markdown",
      "source": [
        "*This* NoteBook illustrates the examples given in chapter 1 of Inside Deep Learning Book."
      ],
      "metadata": {
        "id": "BRBsVLETE7B1"
      }
    },
    {
      "cell_type": "code",
      "source": [
        "import seaborn as sns\n",
        "import matplotlib.pyplot as plt\n",
        "import numpy as np\n",
        "from tqdm.autonotebook import tqdm\n",
        "import pandas as pd"
      ],
      "metadata": {
        "id": "2Xop14FBFLzk",
        "colab": {
          "base_uri": "https://localhost:8080/"
        },
        "outputId": "3b1059c4-7b43-4918-9e1e-98d87ef50101"
      },
      "execution_count": 1,
      "outputs": [
        {
          "output_type": "stream",
          "name": "stderr",
          "text": [
            "/usr/local/lib/python3.7/dist-packages/ipykernel_launcher.py:4: TqdmExperimentalWarning: Using `tqdm.autonotebook.tqdm` in notebook mode. Use `tqdm.tqdm` instead to force console mode (e.g. in jupyter console)\n",
            "  after removing the cwd from sys.path.\n"
          ]
        }
      ]
    },
    {
      "cell_type": "markdown",
      "source": [
        "Any value of n for an n-dimensional array is still a tensor. The word tensor is simply referring to the overall concept of an n-dimenional array.\n",
        "We care about the shape of the tensor as we use different shapes to represent different types of data."
      ],
      "metadata": {
        "id": "7zfiCwB-mkk2"
      }
    },
    {
      "cell_type": "code",
      "source": [
        "import torch\n",
        "\n",
        "torch_scalar = torch.tensor(3.14)\n",
        "torch_vector = torch.tensor([1, 2, 3, 4])\n",
        "torch_matrix = torch.tensor([[1, 2, 3, 4],\n",
        "                             [5, 6, 7, 8],\n",
        "                             [9, 10, 11, 12] \n",
        "                            ])\n",
        "torch_tensor3d = torch.tensor([ \n",
        "                               [[1, 2, 3, 4],\n",
        "                                [5, 6, 7, 8],\n",
        "                                [9, 10, 11, 12] \n",
        "                               ],\n",
        "                               [[13, 14, 15, 16],\n",
        "                                [17, 18, 19, 20],\n",
        "                                [21, 22, 23, 24] \n",
        "                               ]\n",
        "                              ])\n",
        "\n",
        "print(torch_scalar.shape)\n",
        "print(torch_vector.shape)\n",
        "print(torch_matrix.shape)\n",
        "print(torch_tensor3d.shape)"
      ],
      "metadata": {
        "colab": {
          "base_uri": "https://localhost:8080/"
        },
        "id": "A6l2RAcdnDPb",
        "outputId": "2246664e-9ae9-4d6b-b883-355957131b83"
      },
      "execution_count": 2,
      "outputs": [
        {
          "output_type": "stream",
          "name": "stdout",
          "text": [
            "torch.Size([])\n",
            "torch.Size([4])\n",
            "torch.Size([3, 4])\n",
            "torch.Size([2, 3, 4])\n"
          ]
        }
      ]
    },
    {
      "cell_type": "markdown",
      "source": [
        "Converion of data from numpy to Tensor, Viceversa \n",
        "Numpy defaults to 64 bit. Pytorch defaults to 32-bit floats.\n",
        "But when we create 'PyTorch Tensor' from 'Numpy Array' - Tensor will use same data type as Numpy Array \n",
        "\n"
      ],
      "metadata": {
        "id": "VwISgYkOt6Jv"
      }
    },
    {
      "cell_type": "code",
      "source": [
        "x_np = np.random.random((4, 4))\n",
        "print(x_np)"
      ],
      "metadata": {
        "id": "pZJHBoGQsWKp",
        "outputId": "81c11ff0-5722-4800-f1f2-77d54842b887",
        "colab": {
          "base_uri": "https://localhost:8080/"
        }
      },
      "execution_count": 3,
      "outputs": [
        {
          "output_type": "stream",
          "name": "stdout",
          "text": [
            "[[0.56969565 0.1984825  0.65765361 0.86727773]\n",
            " [0.67673301 0.26291193 0.25635154 0.82414743]\n",
            " [0.19523588 0.10964661 0.89412823 0.88882459]\n",
            " [0.90959793 0.92406643 0.87170953 0.32136247]]\n"
          ]
        }
      ]
    },
    {
      "cell_type": "code",
      "source": [
        "x_pt = torch.tensor(x_np)\n",
        "print(x_pt)"
      ],
      "metadata": {
        "id": "8nPuq5zfueaH",
        "outputId": "a7dda5af-379b-4874-ea90-7685a643a9c9",
        "colab": {
          "base_uri": "https://localhost:8080/"
        }
      },
      "execution_count": 4,
      "outputs": [
        {
          "output_type": "stream",
          "name": "stdout",
          "text": [
            "tensor([[0.5697, 0.1985, 0.6577, 0.8673],\n",
            "        [0.6767, 0.2629, 0.2564, 0.8241],\n",
            "        [0.1952, 0.1096, 0.8941, 0.8888],\n",
            "        [0.9096, 0.9241, 0.8717, 0.3214]], dtype=torch.float64)\n"
          ]
        }
      ]
    },
    {
      "cell_type": "markdown",
      "source": [
        "To avoid issues with the types, you can always specify the data type to be used 'dtype' with the APIS."
      ],
      "metadata": {
        "id": "-4jVpZCW1PGM"
      }
    },
    {
      "cell_type": "code",
      "source": [
        "print(x_np.dtype, x_pt.dtype)\n",
        "x_np = np.asarray(x_pt, dtype=np.float32)\n",
        "x_pt = torch.tensor(x_np, dtype=torch.float32)\n",
        "print(x_np.dtype, x_pt.dtype)"
      ],
      "metadata": {
        "colab": {
          "base_uri": "https://localhost:8080/"
        },
        "id": "tNiogn4H1bwS",
        "outputId": "8182188f-8565-46e9-a8eb-6a720c7ce22c"
      },
      "execution_count": 5,
      "outputs": [
        {
          "output_type": "stream",
          "name": "stdout",
          "text": [
            "float64 torch.float64\n",
            "float32 torch.float32\n"
          ]
        }
      ]
    },
    {
      "cell_type": "markdown",
      "source": [
        "Logical Operations & Similarity of the APIs between Numpy and Tensor."
      ],
      "metadata": {
        "id": "AtSt_bfG3T9E"
      }
    },
    {
      "cell_type": "code",
      "source": [
        "b_np = (x_np > 0.5)\n",
        "b_pt = (x_pt > 0.5)\n",
        "print(b_np)\n",
        "print(b_np.dtype)\n",
        "print(b_pt)\n",
        "print(b_pt.dtype)"
      ],
      "metadata": {
        "colab": {
          "base_uri": "https://localhost:8080/"
        },
        "id": "r78p96QA4KmZ",
        "outputId": "e0c4ce11-3833-43d2-b50e-84956dd77054"
      },
      "execution_count": 6,
      "outputs": [
        {
          "output_type": "stream",
          "name": "stdout",
          "text": [
            "[[ True False  True  True]\n",
            " [ True False False  True]\n",
            " [False False  True  True]\n",
            " [ True  True  True False]]\n",
            "bool\n",
            "tensor([[ True, False,  True,  True],\n",
            "        [ True, False, False,  True],\n",
            "        [False, False,  True,  True],\n",
            "        [ True,  True,  True, False]])\n",
            "torch.bool\n"
          ]
        }
      ]
    },
    {
      "cell_type": "markdown",
      "source": [
        "Not always API are similar, one such example is transose which is explained as below. Please check always documention about API's functionality."
      ],
      "metadata": {
        "id": "F5eFK_Vs5Bsb"
      }
    },
    {
      "cell_type": "code",
      "source": [
        "np.transpose(x_np)"
      ],
      "metadata": {
        "colab": {
          "base_uri": "https://localhost:8080/"
        },
        "id": "5JsLO1VZ5Zki",
        "outputId": "98dcfa33-1ede-497c-a226-95ca6476625d"
      },
      "execution_count": 7,
      "outputs": [
        {
          "output_type": "execute_result",
          "data": {
            "text/plain": [
              "array([[0.56969565, 0.676733  , 0.19523588, 0.90959793],\n",
              "       [0.1984825 , 0.26291195, 0.1096466 , 0.9240664 ],\n",
              "       [0.6576536 , 0.25635153, 0.8941282 , 0.8717095 ],\n",
              "       [0.86727774, 0.8241474 , 0.8888246 , 0.32136247]], dtype=float32)"
            ]
          },
          "metadata": {},
          "execution_count": 7
        }
      ]
    },
    {
      "cell_type": "code",
      "source": [
        "torch.transpose(x_pt, 0, 1)"
      ],
      "metadata": {
        "colab": {
          "base_uri": "https://localhost:8080/"
        },
        "id": "e75EEi3H6u5g",
        "outputId": "4b37df5e-df9a-4da4-838a-5f98dd90cd01"
      },
      "execution_count": 8,
      "outputs": [
        {
          "output_type": "execute_result",
          "data": {
            "text/plain": [
              "tensor([[0.5697, 0.6767, 0.1952, 0.9096],\n",
              "        [0.1985, 0.2629, 0.1096, 0.9241],\n",
              "        [0.6577, 0.2564, 0.8941, 0.8717],\n",
              "        [0.8673, 0.8241, 0.8888, 0.3214]])"
            ]
          },
          "metadata": {},
          "execution_count": 8
        }
      ]
    },
    {
      "cell_type": "markdown",
      "source": [
        "First important functionality of PyTorch(Tensor) beyond what numpy can provide is to use GPU to accelarate mathematical caluclations. \n",
        "Below shows some timings related to CPU and Calculations."
      ],
      "metadata": {
        "id": "mUflmMnh7CNz"
      }
    },
    {
      "cell_type": "code",
      "source": [
        "import timeit\n",
        "x = torch.rand(2**11, 2**11)\n",
        "time_cpu  = timeit.timeit(\"x@x\", globals=globals(), number=100)"
      ],
      "metadata": {
        "id": "Wt83yFyl8IqS"
      },
      "execution_count": 9,
      "outputs": []
    },
    {
      "cell_type": "code",
      "source": [
        "print(\"is CUDA available? \",torch.cuda.is_available())\n",
        "device = torch.device('cuda')\n",
        "\n",
        "x = x.to(device)\n",
        "time_gpu = timeit.timeit(\"x@x\", globals=globals(), number=100)\n",
        "\n",
        "print(time_cpu)\n",
        "print(time_gpu)"
      ],
      "metadata": {
        "id": "QTz47jjt-BV5",
        "outputId": "27e751aa-b77d-4f60-8239-4f7030897b50",
        "colab": {
          "base_uri": "https://localhost:8080/"
        }
      },
      "execution_count": 10,
      "outputs": [
        {
          "output_type": "stream",
          "name": "stdout",
          "text": [
            "is CUDA available?  True\n",
            "24.83950032399997\n",
            "0.06186710599996559\n"
          ]
        }
      ]
    },
    {
      "cell_type": "code",
      "source": [
        "def moveTo(obj, device):\n",
        "  if isinstance(obj, list):\n",
        "    return [moveTo(x, device) for x in obj]\n",
        "  elif isinstance(obj, tuple):\n",
        "    return tuple(moveTo(list(obj), device))\n",
        "  elif isinstance(obj, set):\n",
        "    return set(moveTo(list(obj), device))\n",
        "  elif isinstance(obj, dict):\n",
        "    to_ret = dect()\n",
        "    for key, value in obj.items():\n",
        "      to_ret[moveTo(key, device)] = moveTo(value,device)\n",
        "  elif hasattr(obj,\"to\"):\n",
        "    return obj.to(device)\n",
        "  else:\n",
        "    return object\n",
        "  \n",
        "some_tensors = [torch.tensor(1), torch.tensor(2)]\n",
        "device_some_tensors = moveTo(some_tensors, device)\n",
        "print(some_tensors)\n",
        "print(device_some_tensors)"
      ],
      "metadata": {
        "id": "WvUVvTNoKnmJ",
        "outputId": "99602747-720b-41c3-dd2f-6ede2d1abd8e",
        "colab": {
          "base_uri": "https://localhost:8080/"
        }
      },
      "execution_count": 12,
      "outputs": [
        {
          "output_type": "stream",
          "name": "stdout",
          "text": [
            "[tensor(1), tensor(2)]\n",
            "[tensor(1, device='cuda:0'), tensor(2, device='cuda:0')]\n"
          ]
        }
      ]
    }
  ]
}