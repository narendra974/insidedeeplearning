{
  "nbformat": 4,
  "nbformat_minor": 0,
  "metadata": {
    "colab": {
      "name": "PyTorchBasics.ipynb",
      "provenance": [],
      "authorship_tag": "ABX9TyOcN0gzkFWpWmraGwL3yKbO",
      "include_colab_link": true
    },
    "kernelspec": {
      "name": "python3",
      "display_name": "Python 3"
    },
    "language_info": {
      "name": "python"
    },
    "accelerator": "GPU"
  },
  "cells": [
    {
      "cell_type": "markdown",
      "metadata": {
        "id": "view-in-github",
        "colab_type": "text"
      },
      "source": [
        "<a href=\"https://colab.research.google.com/github/narendra974/insidedeeplearning/blob/main/PyTorchBasics.ipynb\" target=\"_parent\"><img src=\"https://colab.research.google.com/assets/colab-badge.svg\" alt=\"Open In Colab\"/></a>"
      ]
    },
    {
      "cell_type": "markdown",
      "source": [
        "*This* NoteBook illustrates the examples given in chapter 1 of Inside Deep Learning Book."
      ],
      "metadata": {
        "id": "BRBsVLETE7B1"
      }
    },
    {
      "cell_type": "code",
      "source": [
        "import seaborn as sns\n",
        "import matplotlib.pyplot as plt\n",
        "import numpy as np\n",
        "from tqdm.autonotebook import tqdm\n",
        "import pandas as pd"
      ],
      "metadata": {
        "id": "2Xop14FBFLzk",
        "colab": {
          "base_uri": "https://localhost:8080/"
        },
        "outputId": "3b1059c4-7b43-4918-9e1e-98d87ef50101"
      },
      "execution_count": null,
      "outputs": [
        {
          "output_type": "stream",
          "name": "stderr",
          "text": [
            "/usr/local/lib/python3.7/dist-packages/ipykernel_launcher.py:4: TqdmExperimentalWarning: Using `tqdm.autonotebook.tqdm` in notebook mode. Use `tqdm.tqdm` instead to force console mode (e.g. in jupyter console)\n",
            "  after removing the cwd from sys.path.\n"
          ]
        }
      ]
    },
    {
      "cell_type": "markdown",
      "source": [
        "Any value of n for an n-dimensional array is still a tensor. The word tensor is simply referring to the overall concept of an n-dimenional array.\n",
        "We care about the shape of the tensor as we use different shapes to represent different types of data."
      ],
      "metadata": {
        "id": "7zfiCwB-mkk2"
      }
    },
    {
      "cell_type": "code",
      "source": [
        "import torch\n",
        "\n",
        "torch_scalar = torch.tensor(3.14)\n",
        "torch_vector = torch.tensor([1, 2, 3, 4])\n",
        "torch_matrix = torch.tensor([[1, 2, 3, 4],\n",
        "                             [5, 6, 7, 8],\n",
        "                             [9, 10, 11, 12] \n",
        "                            ])\n",
        "torch_tensor3d = torch.tensor([ \n",
        "                               [[1, 2, 3, 4],\n",
        "                                [5, 6, 7, 8],\n",
        "                                [9, 10, 11, 12] \n",
        "                               ],\n",
        "                               [[13, 14, 15, 16],\n",
        "                                [17, 18, 19, 20],\n",
        "                                [21, 22, 23, 24] \n",
        "                               ]\n",
        "                              ])\n",
        "\n",
        "print(torch_scalar.shape)\n",
        "print(torch_vector.shape)\n",
        "print(torch_matrix.shape)\n",
        "print(torch_tensor3d.shape)"
      ],
      "metadata": {
        "colab": {
          "base_uri": "https://localhost:8080/"
        },
        "id": "A6l2RAcdnDPb",
        "outputId": "2246664e-9ae9-4d6b-b883-355957131b83"
      },
      "execution_count": null,
      "outputs": [
        {
          "output_type": "stream",
          "name": "stdout",
          "text": [
            "torch.Size([])\n",
            "torch.Size([4])\n",
            "torch.Size([3, 4])\n",
            "torch.Size([2, 3, 4])\n"
          ]
        }
      ]
    },
    {
      "cell_type": "markdown",
      "source": [
        "Converion of data from numpy to Tensor, Viceversa \n",
        "Numpy defaults to 64 bit. Pytorch defaults to 32-bit floats.\n",
        "But when we create 'PyTorch Tensor' from 'Numpy Array' - Tensor will use same data type as Numpy Array \n",
        "\n"
      ],
      "metadata": {
        "id": "VwISgYkOt6Jv"
      }
    },
    {
      "cell_type": "code",
      "source": [
        "x_np = np.random.random((4, 4))\n",
        "print(x_np)"
      ],
      "metadata": {
        "id": "pZJHBoGQsWKp",
        "outputId": "81c11ff0-5722-4800-f1f2-77d54842b887",
        "colab": {
          "base_uri": "https://localhost:8080/"
        }
      },
      "execution_count": null,
      "outputs": [
        {
          "output_type": "stream",
          "name": "stdout",
          "text": [
            "[[0.56969565 0.1984825  0.65765361 0.86727773]\n",
            " [0.67673301 0.26291193 0.25635154 0.82414743]\n",
            " [0.19523588 0.10964661 0.89412823 0.88882459]\n",
            " [0.90959793 0.92406643 0.87170953 0.32136247]]\n"
          ]
        }
      ]
    },
    {
      "cell_type": "code",
      "source": [
        "x_pt = torch.tensor(x_np)\n",
        "print(x_pt)"
      ],
      "metadata": {
        "id": "8nPuq5zfueaH",
        "outputId": "a7dda5af-379b-4874-ea90-7685a643a9c9",
        "colab": {
          "base_uri": "https://localhost:8080/"
        }
      },
      "execution_count": null,
      "outputs": [
        {
          "output_type": "stream",
          "name": "stdout",
          "text": [
            "tensor([[0.5697, 0.1985, 0.6577, 0.8673],\n",
            "        [0.6767, 0.2629, 0.2564, 0.8241],\n",
            "        [0.1952, 0.1096, 0.8941, 0.8888],\n",
            "        [0.9096, 0.9241, 0.8717, 0.3214]], dtype=torch.float64)\n"
          ]
        }
      ]
    },
    {
      "cell_type": "markdown",
      "source": [
        "To avoid issues with the types, you can always specify the data type to be used 'dtype' with the APIS."
      ],
      "metadata": {
        "id": "-4jVpZCW1PGM"
      }
    },
    {
      "cell_type": "code",
      "source": [
        "print(x_np.dtype, x_pt.dtype)\n",
        "x_np = np.asarray(x_pt, dtype=np.float32)\n",
        "x_pt = torch.tensor(x_np, dtype=torch.float32)\n",
        "print(x_np.dtype, x_pt.dtype)"
      ],
      "metadata": {
        "colab": {
          "base_uri": "https://localhost:8080/"
        },
        "id": "tNiogn4H1bwS",
        "outputId": "8182188f-8565-46e9-a8eb-6a720c7ce22c"
      },
      "execution_count": null,
      "outputs": [
        {
          "output_type": "stream",
          "name": "stdout",
          "text": [
            "float64 torch.float64\n",
            "float32 torch.float32\n"
          ]
        }
      ]
    },
    {
      "cell_type": "markdown",
      "source": [
        "Logical Operations & Similarity of the APIs between Numpy and Tensor."
      ],
      "metadata": {
        "id": "AtSt_bfG3T9E"
      }
    },
    {
      "cell_type": "code",
      "source": [
        "b_np = (x_np > 0.5)\n",
        "b_pt = (x_pt > 0.5)\n",
        "print(b_np)\n",
        "print(b_np.dtype)\n",
        "print(b_pt)\n",
        "print(b_pt.dtype)"
      ],
      "metadata": {
        "colab": {
          "base_uri": "https://localhost:8080/"
        },
        "id": "r78p96QA4KmZ",
        "outputId": "e0c4ce11-3833-43d2-b50e-84956dd77054"
      },
      "execution_count": null,
      "outputs": [
        {
          "output_type": "stream",
          "name": "stdout",
          "text": [
            "[[ True False  True  True]\n",
            " [ True False False  True]\n",
            " [False False  True  True]\n",
            " [ True  True  True False]]\n",
            "bool\n",
            "tensor([[ True, False,  True,  True],\n",
            "        [ True, False, False,  True],\n",
            "        [False, False,  True,  True],\n",
            "        [ True,  True,  True, False]])\n",
            "torch.bool\n"
          ]
        }
      ]
    },
    {
      "cell_type": "markdown",
      "source": [
        "Not always API are similar, one such example is transose which is explained as below. Please check always documention about API's functionality."
      ],
      "metadata": {
        "id": "F5eFK_Vs5Bsb"
      }
    },
    {
      "cell_type": "code",
      "source": [
        "np.transpose(x_np)"
      ],
      "metadata": {
        "colab": {
          "base_uri": "https://localhost:8080/"
        },
        "id": "5JsLO1VZ5Zki",
        "outputId": "98dcfa33-1ede-497c-a226-95ca6476625d"
      },
      "execution_count": null,
      "outputs": [
        {
          "output_type": "execute_result",
          "data": {
            "text/plain": [
              "array([[0.56969565, 0.676733  , 0.19523588, 0.90959793],\n",
              "       [0.1984825 , 0.26291195, 0.1096466 , 0.9240664 ],\n",
              "       [0.6576536 , 0.25635153, 0.8941282 , 0.8717095 ],\n",
              "       [0.86727774, 0.8241474 , 0.8888246 , 0.32136247]], dtype=float32)"
            ]
          },
          "metadata": {},
          "execution_count": 7
        }
      ]
    },
    {
      "cell_type": "code",
      "source": [
        "torch.transpose(x_pt, 0, 1)"
      ],
      "metadata": {
        "colab": {
          "base_uri": "https://localhost:8080/"
        },
        "id": "e75EEi3H6u5g",
        "outputId": "4b37df5e-df9a-4da4-838a-5f98dd90cd01"
      },
      "execution_count": null,
      "outputs": [
        {
          "output_type": "execute_result",
          "data": {
            "text/plain": [
              "tensor([[0.5697, 0.6767, 0.1952, 0.9096],\n",
              "        [0.1985, 0.2629, 0.1096, 0.9241],\n",
              "        [0.6577, 0.2564, 0.8941, 0.8717],\n",
              "        [0.8673, 0.8241, 0.8888, 0.3214]])"
            ]
          },
          "metadata": {},
          "execution_count": 8
        }
      ]
    },
    {
      "cell_type": "markdown",
      "source": [
        "First important functionality of PyTorch(Tensor) beyond what numpy can provide is to use GPU to accelarate mathematical caluclations. \n",
        "Below shows some timings related to CPU and Calculations."
      ],
      "metadata": {
        "id": "mUflmMnh7CNz"
      }
    },
    {
      "cell_type": "code",
      "source": [
        "import timeit\n",
        "x = torch.rand(2**11, 2**11)\n",
        "time_cpu  = timeit.timeit(\"x@x\", globals=globals(), number=100)"
      ],
      "metadata": {
        "id": "Wt83yFyl8IqS"
      },
      "execution_count": null,
      "outputs": []
    },
    {
      "cell_type": "code",
      "source": [
        "print(\"is CUDA available? \",torch.cuda.is_available())\n",
        "device = torch.device('cuda')\n",
        "\n",
        "x = x.to(device)\n",
        "time_gpu = timeit.timeit(\"x@x\", globals=globals(), number=100)\n",
        "\n",
        "print(time_cpu)\n",
        "print(time_gpu)"
      ],
      "metadata": {
        "id": "QTz47jjt-BV5",
        "outputId": "27e751aa-b77d-4f60-8239-4f7030897b50",
        "colab": {
          "base_uri": "https://localhost:8080/"
        }
      },
      "execution_count": null,
      "outputs": [
        {
          "output_type": "stream",
          "name": "stdout",
          "text": [
            "is CUDA available?  True\n",
            "24.83950032399997\n",
            "0.06186710599996559\n"
          ]
        }
      ]
    },
    {
      "cell_type": "code",
      "source": [
        "def moveTo(obj, device):\n",
        "  if isinstance(obj, list):\n",
        "    return [moveTo(x, device) for x in obj]\n",
        "  elif isinstance(obj, tuple):\n",
        "    return tuple(moveTo(list(obj), device))\n",
        "  elif isinstance(obj, set):\n",
        "    return set(moveTo(list(obj), device))\n",
        "  elif isinstance(obj, dict):\n",
        "    to_ret = dect()\n",
        "    for key, value in obj.items():\n",
        "      to_ret[moveTo(key, device)] = moveTo(value,device)\n",
        "  elif hasattr(obj,\"to\"):\n",
        "    return obj.to(device)\n",
        "  else:\n",
        "    return object\n",
        "  \n",
        "some_tensors = [torch.tensor(1), torch.tensor(2)]\n",
        "device_some_tensors = moveTo(some_tensors, device)\n",
        "print(some_tensors)\n",
        "print(device_some_tensors)"
      ],
      "metadata": {
        "id": "WvUVvTNoKnmJ",
        "outputId": "99602747-720b-41c3-dd2f-6ede2d1abd8e",
        "colab": {
          "base_uri": "https://localhost:8080/"
        }
      },
      "execution_count": null,
      "outputs": [
        {
          "output_type": "stream",
          "name": "stdout",
          "text": [
            "[tensor(1), tensor(2)]\n",
            "[tensor(1, device='cuda:0'), tensor(2, device='cuda:0')]\n"
          ]
        }
      ]
    },
    {
      "cell_type": "markdown",
      "source": [
        "Second major function of PyTorch is automatic differentiation. As long as we use pytorch provided functions PyTorch can compute gradients automatically."
      ],
      "metadata": {
        "id": "Tf9OFpkB5o39"
      }
    },
    {
      "cell_type": "code",
      "source": [
        "def f(x):\n",
        "  return torch.pow((x-2.0), 2)\n",
        "\n",
        "x_axis_vals = np.linspace(-7, 9, 100)\n",
        "y_axis_vals = f(torch.tensor(x_axis_vals)).numpy()\n",
        "\n",
        "sns.lineplot(x=x_axis_vals, y=y_axis_vals, label='f(x)=(x-2)^2')"
      ],
      "metadata": {
        "colab": {
          "base_uri": "https://localhost:8080/",
          "height": 282
        },
        "id": "zRDY9vPj6mkV",
        "outputId": "d1b017f7-9862-40d6-efc7-3e716abad228"
      },
      "execution_count": null,
      "outputs": [
        {
          "output_type": "execute_result",
          "data": {
            "text/plain": [
              "<matplotlib.axes._subplots.AxesSubplot at 0x7ff875bc87d0>"
            ]
          },
          "metadata": {},
          "execution_count": 31
        },
        {
          "output_type": "display_data",
          "data": {
            "image/png": "[encoded data removed]",
            "text/plain": [
              "<Figure size 432x288 with 1 Axes>"
            ]
          },
          "metadata": {
            "needs_background": "light"
          }
        }
      ]
    },
    {
      "cell_type": "markdown",
      "source": [
        "\n",
        "*   STEP1 : Compute the Gradient of F(x)\n",
        "*   STEP2 : if gradient is positive move 'x' to the left and move to STEP1 \n",
        "*   STEP3 : if gradient is negative move 'x' to the right and move to STEP1\n",
        "*   STEP4 : if gradient is zero, STOP"
      ],
      "metadata": {
        "id": "6JVS3f-S7d4i"
      }
    },
    {
      "cell_type": "code",
      "source": [
        "def fP(x) :\n",
        "  return 2*x -4\n",
        "\n",
        "y_axis_values_grad = fP(torch.tensor(x_axis_vals)).numpy()\n",
        "sns.lineplot(x=x_axis_vals, y=y_axis_vals, label='Function to Minimize f(x)=(x-2)^2')\n",
        "sns.lineplot(x=x_axis_vals, y=[0.0]*len(x_axis_vals), label='ZERO LINE')\n",
        "sns.lineplot(x=x_axis_vals, y=y_axis_values_grad, label='Gadient Function f(x)=2*x-4')\n"
      ],
      "metadata": {
        "colab": {
          "base_uri": "https://localhost:8080/",
          "height": 282
        },
        "id": "9nZqd056-IsV",
        "outputId": "8c6e4a2a-cf7d-44f4-a75a-2ac13658d13c"
      },
      "execution_count": null,
      "outputs": [
        {
          "output_type": "execute_result",
          "data": {
            "text/plain": [
              "<matplotlib.axes._subplots.AxesSubplot at 0x7ff875237dd0>"
            ]
          },
          "metadata": {},
          "execution_count": 34
        },
        {
          "output_type": "display_data",
          "data": {
            "image/png": "[encoded data removed]",
            "text/plain": [
              "<Figure size 432x288 with 1 Axes>"
            ]
          },
          "metadata": {
            "needs_background": "light"
          }
        }
      ]
    },
    {
      "cell_type": "markdown",
      "source": [
        "\n",
        "*   Calculating Gradient/Differentiation with PyTorch Automatic Differentiation. \n",
        "*   To Compute the gradient we have to inform the tensor with the variable 'requires_grad'\n",
        "*   Tensor maintains a variable called 'grad' to store the gradient. \n",
        "*   Once we tell pytorch to calculate the gradients, it will begin to keep track of every computation we do on the tensor for computing the gradient."
      ],
      "metadata": {
        "id": "4frxFgrPAkWa"
      }
    },
    {
      "cell_type": "code",
      "source": [
        "x = torch.tensor([-3.5], requires_grad= True)\n",
        "print(x.grad)\n",
        "value = f(x)\n",
        "print(value)\n",
        "value.backward()\n",
        "print(x.grad)"
      ],
      "metadata": {
        "id": "ccWBwKvGCkid",
        "outputId": "9f9af5b6-89e4-419f-e9d1-ea57f4f3af91",
        "colab": {
          "base_uri": "https://localhost:8080/"
        }
      },
      "execution_count": null,
      "outputs": [
        {
          "output_type": "stream",
          "name": "stdout",
          "text": [
            "None\n",
            "tensor([30.2500], grad_fn=<PowBackward0>)\n",
            "tensor([-11.])\n"
          ]
        }
      ]
    },
    {
      "cell_type": "markdown",
      "source": [
        "Minimizing a Function with Derivaties."
      ],
      "metadata": {
        "id": "0bB1lIQ0DAQ3"
      }
    },
    {
      "cell_type": "code",
      "source": [
        "x = torch.tensor([-3.5], requires_grad=True)\n",
        "\n",
        "x_cur = x.clone()\n",
        "x_prev = x_cur*100\n",
        "\n",
        "epsilon = 1e-5\n",
        "eta = 0.1\n",
        "\n",
        "while torch.linalg.norm(x_cur-x_prev) > epsilon:\n",
        "  x_prev = x_cur.clone()\n",
        "\n",
        "  value = f(x)\n",
        "  value.backward()\n",
        "  x.data -= eta*x.grad\n",
        "  x.grad.zero_() \n",
        "  x_cur = x.data\n",
        "\n",
        "print(x_cur)"
      ],
      "metadata": {
        "id": "ujB9htwpDyRx",
        "outputId": "2b862f0e-6510-429a-f0da-516ad5fe9770",
        "colab": {
          "base_uri": "https://localhost:8080/"
        }
      },
      "execution_count": null,
      "outputs": [
        {
          "output_type": "stream",
          "name": "stdout",
          "text": [
            "tensor([2.0000])\n"
          ]
        }
      ]
    },
    {
      "cell_type": "markdown",
      "source": [
        "Optimizing Parameters: \n",
        "A parameter of a model is a value that we want to alter using an optimizer, so that we want to reduce the loss function."
      ],
      "metadata": {
        "id": "hFgDJD4QHtm_"
      }
    },
    {
      "cell_type": "code",
      "source": [
        "x_param = torch.nn.Parameter(torch.tensor([-3.5]), requires_grad=True)\n",
        "optimizer = torch.optim.SGD([x_param], lr=eta)\n",
        "\n",
        "for epoch in range(60):\n",
        "  optimizer.zero_grad()\n",
        "  loss_incurred = f(x_param)\n",
        "  loss_incurred.backward()\n",
        "  optimizer.step()\n",
        "print(x_param.data)"
      ],
      "metadata": {
        "id": "82cZDMuQJZRY",
        "outputId": "2e10d510-8fa5-4553-9d21-92095cbb572e",
        "colab": {
          "base_uri": "https://localhost:8080/"
        }
      },
      "execution_count": null,
      "outputs": [
        {
          "output_type": "stream",
          "name": "stdout",
          "text": [
            "tensor([2.0000])\n"
          ]
        }
      ]
    },
    {
      "cell_type": "markdown",
      "source": [
        "Dataset Loading.\n",
        "\n",
        "Pytorch uses  'Dataset' interface to provide efficent loaders that will automatically handle multiple CPU Cores. It encodes information about \n",
        "1.   How many items are there in the dataset. \n",
        "2.   How to get the N-th element in the dataset."
      ],
      "metadata": {
        "id": "MOJV6uN4Ckxm"
      }
    },
    {
      "cell_type": "code",
      "source": [
        "from torch.utils.data import Dataset\n",
        "from sklearn.datasets import fetch_openml\n",
        "\n",
        "X, y = fetch_openml('mnist_784', version=1, return_X_y=True)\n",
        "print(X.shape)"
      ],
      "metadata": {
        "id": "bVwcYs6wDrMT",
        "colab": {
          "base_uri": "https://localhost:8080/"
        },
        "outputId": "ee9ca8ef-3fc4-4b1c-b4da-dae40ecc274a"
      },
      "execution_count": 20,
      "outputs": [
        {
          "output_type": "stream",
          "name": "stdout",
          "text": [
            "(70000, 784)\n"
          ]
        }
      ]
    },
    {
      "cell_type": "markdown",
      "source": [
        "Sample class extending 'Dataset' class."
      ],
      "metadata": {
        "id": "5QGSAnXVFiaH"
      }
    },
    {
      "cell_type": "code",
      "source": [
        "class SimpleDataset(Dataset):\n",
        "  def __init__(self, X, y):\n",
        "    super(SimpleDataset, self).__init__()\n",
        "    self.X= X;\n",
        "    self.y=y;"
      ],
      "metadata": {
        "id": "qnUIP9PYFnxF"
      },
      "execution_count": null,
      "outputs": []
    }
  ]
}