{
  "nbformat": 4,
  "nbformat_minor": 0,
  "metadata": {
    "colab": {
      "name": "PyTorchBasics.ipynb",
      "provenance": [],
      "authorship_tag": "ABX9TyPHzK9tF5ajF9LIwh2JiF97",
      "include_colab_link": true
    },
    "kernelspec": {
      "name": "python3",
      "display_name": "Python 3"
    },
    "language_info": {
      "name": "python"
    }
  },
  "cells": [
    {
      "cell_type": "markdown",
      "metadata": {
        "id": "view-in-github",
        "colab_type": "text"
      },
      "source": [
        "<a href=\"https://colab.research.google.com/github/narendra974/insidedeeplearning/blob/main/PyTorchBasics.ipynb\" target=\"_parent\"><img src=\"https://colab.research.google.com/assets/colab-badge.svg\" alt=\"Open In Colab\"/></a>"
      ]
    },
    {
      "cell_type": "markdown",
      "source": [
        "*This* NoteBook illustrates the examples given in chapter 1 of Inside Deep Learning Book."
      ],
      "metadata": {
        "id": "BRBsVLETE7B1"
      }
    },
    {
      "cell_type": "code",
      "source": [
        "import seaborn as sns\n",
        "import matplotlib.pyplot as plt\n",
        "import numpy as np\n",
        "from tqdm.autonotebook import tqdm\n",
        "import pandas as pd"
      ],
      "metadata": {
        "id": "2Xop14FBFLzk"
      },
      "execution_count": null,
      "outputs": []
    },
    {
      "cell_type": "markdown",
      "source": [
        "Any value of n for an n-dimensional array is still a tensor. The word tensor is simply referring to the overall concept of an n-dimenional array"
      ],
      "metadata": {
        "id": "7zfiCwB-mkk2"
      }
    },
    {
      "cell_type": "code",
      "source": [
        "import torch\n",
        "\n",
        "torch_scalar = torch.tensor(3.14)\n",
        "torch_vector = torch.tensor([1, 2, 3, 4])\n",
        "torch_matrix = torch.tensor([5, 6, 7, 8],\n",
        "                            [9, 10, 11, 12],\n",
        "                            [13, 14, 15, 16] )\n"
      ],
      "metadata": {
        "id": "A6l2RAcdnDPb"
      },
      "execution_count": null,
      "outputs": []
    }
  ]
}