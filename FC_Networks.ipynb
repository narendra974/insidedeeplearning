{
  "nbformat": 4,
  "nbformat_minor": 0,
  "metadata": {
    "colab": {
      "name": "FC Networks.ipynb",
      "provenance": [],
      "authorship_tag": "ABX9TyPyBgHX9A+5PXxDxrOi8HC8",
      "include_colab_link": true
    },
    "kernelspec": {
      "name": "python3",
      "display_name": "Python 3"
    },
    "language_info": {
      "name": "python"
    }
  },
  "cells": [
    {
      "cell_type": "markdown",
      "metadata": {
        "id": "view-in-github",
        "colab_type": "text"
      },
      "source": [
        "<a href=\"https://colab.research.google.com/github/narendra974/insidedeeplearning/blob/main/FC_Networks.ipynb\" target=\"_parent\"><img src=\"https://colab.research.google.com/assets/colab-badge.svg\" alt=\"Open In Colab\"/></a>"
      ]
    },
    {
      "cell_type": "markdown",
      "source": [
        "Fully Connected Networks\n",
        "\n",
        "To implement any kind of neural network in PyTorch we must phrase the problem as an optimization problem (function minimization)\n",
        "\n",
        "\n",
        "\n",
        "\n",
        "quantifying how bad the model is doing.\n",
        "Compute the gradient of loss with each parameter. \n",
        "Update the parameters with the gradients calculated. \n",
        "\n",
        "1. Input Data and labels are feed into the process.\n",
        "2. Output of the model is used with the true label to compute a loss.\n",
        "3. "
      ],
      "metadata": {
        "id": "UueO1ltINFve"
      }
    }
  ]
}