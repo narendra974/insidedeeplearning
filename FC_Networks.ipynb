{
  "nbformat": 4,
  "nbformat_minor": 0,
  "metadata": {
    "colab": {
      "name": "FC Networks.ipynb",
      "provenance": [],
      "collapsed_sections": [],
      "authorship_tag": "ABX9TyN9cI0XpG3d5LKmcbzg5wh7",
      "include_colab_link": true
    },
    "kernelspec": {
      "name": "python3",
      "display_name": "Python 3"
    },
    "language_info": {
      "name": "python"
    }
  },
  "cells": [
    {
      "cell_type": "markdown",
      "metadata": {
        "id": "view-in-github",
        "colab_type": "text"
      },
      "source": [
        "<a href=\"https://colab.research.google.com/github/narendra974/insidedeeplearning/blob/main/FC_Networks.ipynb\" target=\"_parent\"><img src=\"https://colab.research.google.com/assets/colab-badge.svg\" alt=\"Open In Colab\"/></a>"
      ]
    },
    {
      "cell_type": "markdown",
      "source": [
        "Fully Connected Networks\n",
        "\n",
        "To implement any kind of neural network in PyTorch we must phrase the problem as an optimization problem (function minimization)\n",
        "\n",
        "1. Input Data and labels are feed into the process.\n",
        "2. Output of the model is used with the true label to compute a loss.\n",
        "3. quantifying how bad the model is doing with the loss function.\n",
        "4. Compute the gradient of loss with each parameter. \n",
        "5. Update the parameters with the gradients calculated.\n",
        "\n"
      ],
      "metadata": {
        "id": "UueO1ltINFve"
      }
    },
    {
      "cell_type": "markdown",
      "source": [
        "Function Minimization Problem\n",
        "\n",
        "Alterthe parameters 'Theta' to minimize the error/lossof the neural network's prediction against the correct predictions over the entire dataset."
      ],
      "metadata": {
        "id": "Cg78AD2rQz2v"
      }
    },
    {
      "cell_type": "markdown",
      "source": [
        "Parameter Learning Rule(Gradient Descent)\n",
        "\n",
        "The new parameters Theta(k+1) are equal to the old parameters minus the gradient with respect to the old parameters of the error/loss of the neural networks prediction against the correct predictions averaged over the entire dataset and down-weighted by the learning rate."
      ],
      "metadata": {
        "id": "ONOC6aqyQ-zJ"
      }
    },
    {
      "cell_type": "code",
      "source": [
        "import torch\n",
        "import torch.nn\n",
        "import torch.nn.functional as F\n",
        "from torch.utils.data import *\n",
        "from tqdm.autonotebook import tqdm"
      ],
      "metadata": {
        "id": "e7Rr0Kj6R4ZH"
      },
      "execution_count": 6,
      "outputs": []
    },
    {
      "cell_type": "code",
      "source": [
        "def moveTo(obj, device):\n",
        "  if isinstance(obj, list):\n",
        "    return [moveTo(x, device) for x in obj]\n",
        "  elif isinstance(obj, tuple):\n",
        "    return tuple(moveTo(list(obj), device))\n",
        "  elif isinstance(obj, set):\n",
        "    return set(moveTo(list(obj), device))\n",
        "  elif isinstance(obj, dict):\n",
        "    to_ret = dect()\n",
        "    for key, value in obj.items():\n",
        "      to_ret[moveTo(key, device)] = moveTo(value,device)\n",
        "  elif hasattr(obj,\"to\"):\n",
        "    return obj.to(device)\n",
        "  else:\n",
        "    return object"
      ],
      "metadata": {
        "id": "gpB_cuxgUzII"
      },
      "execution_count": 9,
      "outputs": []
    },
    {
      "cell_type": "code",
      "source": [
        "def train_simple_network(model, loss_fun, training_loader, epochs=20, device=\"cpu\"):\n",
        "  optimizer = torch.optim.SGD(model.parameters(), lr=0.001) # Learning rate to be provided.\n",
        "  for epoch in tqdm(range(epochs), desc=\"Epoch\"):\n",
        "\n",
        "    model = model.train()  # put the model to train\n",
        "    running_loss = 0.0\n",
        "\n",
        "    for inputs, labels in tqdm(training_loader, desc='Batch', Leave=False):\n",
        "      inputs = moveTo(inputs, device)\n",
        "      labels = moveTo(labels, device)\n",
        "      optimizer.zero_grad() # remove old information from previous iteration.\n",
        "      predicted_labels = model(inputs)\n",
        "      loss = loss_fun(labels, predicted_labels)\n",
        "      loss.backward() # for computing the gradients. \n",
        "      optimizer.step()   # Update the parameters. \n",
        "      running_loss = running_loss + loss.item()"
      ],
      "metadata": {
        "id": "THjXm9eYSqtb"
      },
      "execution_count": 10,
      "outputs": []
    },
    {
      "cell_type": "code",
      "source": [
        "# Creation of 1-dimensional data set.\n",
        "import  numpy as np\n",
        "import seaborn as sns\n",
        "\n",
        "X = np.linspace(0, 20, num=200)\n",
        "y = X + np.sin(X)*2 + np.random.normal(size=X.shape)\n",
        "sns.scatterplot(x=X, y=y)\n"
      ],
      "metadata": {
        "colab": {
          "base_uri": "https://localhost:8080/",
          "height": 282
        },
        "id": "gZcjONWGUx7W",
        "outputId": "2d4bdf83-3815-45b3-b7f8-2cc116a4d1fa"
      },
      "execution_count": 11,
      "outputs": [
        {
          "output_type": "execute_result",
          "data": {
            "text/plain": [
              "<matplotlib.axes._subplots.AxesSubplot at 0x7f3c529cc290>"
            ]
          },
          "metadata": {},
          "execution_count": 11
        },
        {
          "output_type": "display_data",
          "data": {
            "image/png": "[encoded data removed]",
            "text/plain": [
              "<Figure size 432x288 with 1 Axes>"
            ]
          },
          "metadata": {
            "needs_background": "light"
          }
        }
      ]
    },
    {
      "cell_type": "code",
      "source": [
        "class Simple1DRegressionDataset(Dataset):\n",
        "  \n",
        "  def __init__(self, X, y):\n",
        "    super(Simple1DRegressionDataset, self).__init__()\n",
        "    self.X = X.reshape(-1, 1)\n",
        "    self.y = y.reshape(-1, 1)\n",
        "\n",
        "  def __getitem__(self, index):\n",
        "    return torch.tensor(self.X[index,:], dtype=torch.float32), torch.tensor(self.y[index], dtype=torch.float32)\n",
        "\n",
        "  def __len__(self):\n",
        "    return self.X.shape[0]\n",
        "\n",
        "training_loader = DataLoader(Simple1DRegressionDataset(X, y), shuffle=True)"
      ],
      "metadata": {
        "id": "gcLzSsG9Xr-S"
      },
      "execution_count": 12,
      "outputs": []
    }
  ]
}