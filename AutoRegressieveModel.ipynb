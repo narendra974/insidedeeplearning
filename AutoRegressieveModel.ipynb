{
  "nbformat": 4,
  "nbformat_minor": 0,
  "metadata": {
    "colab": {
      "name": "Untitled7.ipynb",
      "provenance": [],
      "authorship_tag": "ABX9TyPmj9+CSvgFNtEKvFlhJkoZ",
      "include_colab_link": true
    },
    "kernelspec": {
      "name": "python3",
      "display_name": "Python 3"
    },
    "language_info": {
      "name": "python"
    }
  },
  "cells": [
    {
      "cell_type": "markdown",
      "metadata": {
        "id": "view-in-github",
        "colab_type": "text"
      },
      "source": [
        "<a href=\"https://colab.research.google.com/github/narendra974/insidedeeplearning/blob/main/AutoRegressieveModel.ipynb\" target=\"_parent\"><img src=\"https://colab.research.google.com/assets/colab-badge.svg\" alt=\"Open In Colab\"/></a>"
      ]
    },
    {
      "cell_type": "code",
      "execution_count": 1,
      "metadata": {
        "id": "_FHkCw7pNWcN"
      },
      "outputs": [],
      "source": [
        "from io import BytesIO\n",
        "from zipfile import ZipFile\n",
        "from urllib.request import urlopen\n",
        "import re"
      ]
    },
    {
      "cell_type": "code",
      "source": [
        "all_data = []\n",
        "resp = urlopen(\"https://storage.googleapis.com/download.tensorflow.org/data/shakespeare.txt\")\n",
        "shakespear_100k = resp.read()\n",
        "shakespear_100k = shakespear_100k.decode('utf-8').lower()\n"
      ],
      "metadata": {
        "id": "XjoQlhCfNwU9"
      },
      "execution_count": 3,
      "outputs": []
    }
  ]
}