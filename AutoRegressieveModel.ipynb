{
  "nbformat": 4,
  "nbformat_minor": 0,
  "metadata": {
    "colab": {
      "name": "Untitled7.ipynb",
      "provenance": [],
      "authorship_tag": "ABX9TyMesvLP3heWIRwtYLWZqPrU",
      "include_colab_link": true
    },
    "kernelspec": {
      "name": "python3",
      "display_name": "Python 3"
    },
    "language_info": {
      "name": "python"
    }
  },
  "cells": [
    {
      "cell_type": "markdown",
      "metadata": {
        "id": "view-in-github",
        "colab_type": "text"
      },
      "source": [
        "<a href=\"https://colab.research.google.com/github/narendra974/insidedeeplearning/blob/main/AutoRegressieveModel.ipynb\" target=\"_parent\"><img src=\"https://colab.research.google.com/assets/colab-badge.svg\" alt=\"Open In Colab\"/></a>"
      ]
    },
    {
      "cell_type": "code",
      "execution_count": 3,
      "metadata": {
        "id": "_FHkCw7pNWcN"
      },
      "outputs": [],
      "source": [
        "from io import BytesIO\n",
        "from zipfile import ZipFile\n",
        "from urllib.request import urlopen\n",
        "import re\n",
        "from torch.utils.data import Dataset, DataLoader\n",
        "import torch\n",
        "import torch.nn as nn"
      ]
    },
    {
      "cell_type": "code",
      "source": [
        "all_data = []\n",
        "resp = urlopen(\"https://storage.googleapis.com/download.tensorflow.org/data/shakespeare.txt\")\n",
        "shakespear_100k = resp.read()\n",
        "shakespear_100k = shakespear_100k.decode('utf-8').lower()\n",
        "device = torch.device(\"cuda\")\n"
      ],
      "metadata": {
        "id": "XjoQlhCfNwU9"
      },
      "execution_count": 4,
      "outputs": []
    },
    {
      "cell_type": "code",
      "source": [
        "vocab2index = {}\n",
        "\n",
        "for char in shakespear_100k:\n",
        "  if char not in vocab2index:\n",
        "    vocab2index[char] = len(vocab2index)\n",
        "\n",
        "index2Vocab={}\n",
        "\n",
        "for k, v in vocab2index.items():\n",
        "  index2Vocab[v]=k\n",
        "\n",
        "\n",
        "print(\"Vocab Size \", len(vocab2index))\n",
        "print(\"Total text size \", len(shakespear_100k))\n",
        "\n"
      ],
      "metadata": {
        "colab": {
          "base_uri": "https://localhost:8080/"
        },
        "id": "CYb4ehGNREZz",
        "outputId": "73a14e4e-b2cf-4836-c657-3b42587734cb"
      },
      "execution_count": 5,
      "outputs": [
        {
          "output_type": "stream",
          "name": "stdout",
          "text": [
            "Vocab Size  39\n",
            "Total text size  1115394\n"
          ]
        }
      ]
    },
    {
      "cell_type": "code",
      "source": [
        "class AutoRegressiveDataset(Dataset):\n",
        "\n",
        "  def __init__(self, large_string, max_chunk=500):\n",
        "    self.doc = large_string\n",
        "    self.max_chunk = max_chunk\n",
        "\n",
        "  def __len__(self):\n",
        "    return (len(self.doc)-1) // self.max_chunk\n",
        "\n",
        "  def __getitem__(self, idx):\n",
        "    start = idx * self.max_chunk\n",
        "    sub_string = self.doc[start:start+self.max_chunk]\n",
        "    x = [vocab2index(c) for c in sub_string]\n",
        "    sub_string_y = self.doc[start+1:start+self.max_chunk+1]\n",
        "    y = [vocab2index(c) for c in sub_string_y]\n",
        "    "
      ],
      "metadata": {
        "id": "aHSqHvh_dKEm"
      },
      "execution_count": 6,
      "outputs": []
    },
    {
      "cell_type": "code",
      "source": [
        "def step(x_in, h_prev):\n",
        "  if len(x_in.shape) == 1:\n",
        "    x_in = self.embd(x_in)\n",
        "  \n",
        "  if h_prevs is None:\n",
        "    h_prevs = self.initHiddenStates(x_in.shape[0])\n",
        "\n",
        "\n",
        "  # for GRUCell there is only one input that is send as the hidden state to the next time step process and as an output from this layer. \n",
        "  for l in range(len(self.layers)):  \n",
        "    h_prev = h_prevs[l]\n",
        "    h = self.norms[l](self.layers[l](x_in, h_prev))\n",
        "    h_prevs[l]=h\n",
        "    x_in = h\n",
        "\n",
        "  return self.pred_class(x_in)\n"
      ],
      "metadata": {
        "id": "-VhK6RIukI-i"
      },
      "execution_count": 7,
      "outputs": []
    },
    {
      "cell_type": "code",
      "source": [
        "class AutoRegressiveModule(nn.Module):\n",
        "  \n",
        "  def __init__(self, num_embeddings, embd_size, hidden_size, layers=1):\n",
        "    super(AutoRegressiveModule, self).__init__()\n",
        "    self.hidden_size = hidden_size\n",
        "    self.embd = nn.Embedding(num_embeddings, embd_size)\n",
        "    self.layers = nn.ModuleList( [nn.GRUCell(embd_size, hidden_size)] + [nn.GRUCell(hidden_size, hidden_size) for i in range(layers-1)])\n",
        "    self.norms = nn.ModuleList([nn.LayerNorm(hidden_size) for i in range(layers)])\n",
        "    self.pred_class = nn.Sequential(\n",
        "        nn.Linear(hidden_size, hidden_size), \n",
        "        nn.LeakyReLU(),\n",
        "        nn.LayerNorm(hidden_size),\n",
        "        nn.Linear(hidden_size, num_embeddings)   \n",
        "    )\n",
        "\n",
        "  def initHiddenStates(self, B):\n",
        "    return [torch.zeros(B, self.hidden_size, device=device) for _ in range(len(self.layers))]\n",
        "\n",
        "  def forward(self, input):\n",
        "    B = input.size(0)\n",
        "    T = input.size(1)\n",
        "    x = self.embd(input)\n",
        "    h_prevs = self.initHiddenStates(B)\n",
        "    \n",
        "    last_activations = []\n",
        "    for t in range(T):\n",
        "      x_in = x[:,t, :]\n",
        "      last_activations.append(self.step(x_in, h_prevs))\n",
        "    \n",
        "    last_activations = torch.stack(last_activations, dim=1)\n",
        "    return last_activations\n",
        "\n",
        "\n"
      ],
      "metadata": {
        "id": "n23Lv2xWtc7I"
      },
      "execution_count": 8,
      "outputs": []
    },
    {
      "cell_type": "code",
      "source": [
        ""
      ],
      "metadata": {
        "id": "IFB6LeR2APNg"
      },
      "execution_count": 8,
      "outputs": []
    }
  ]
}