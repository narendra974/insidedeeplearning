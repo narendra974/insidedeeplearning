{
  "nbformat": 4,
  "nbformat_minor": 0,
  "metadata": {
    "colab": {
      "name": "Untitled7.ipynb",
      "provenance": [],
      "authorship_tag": "ABX9TyPb5v35SFhhEQ3QIolRxct0",
      "include_colab_link": true
    },
    "kernelspec": {
      "name": "python3",
      "display_name": "Python 3"
    },
    "language_info": {
      "name": "python"
    }
  },
  "cells": [
    {
      "cell_type": "markdown",
      "metadata": {
        "id": "view-in-github",
        "colab_type": "text"
      },
      "source": [
        "<a href=\"https://colab.research.google.com/github/narendra974/insidedeeplearning/blob/main/AutoRegressieveModel.ipynb\" target=\"_parent\"><img src=\"https://colab.research.google.com/assets/colab-badge.svg\" alt=\"Open In Colab\"/></a>"
      ]
    },
    {
      "cell_type": "code",
      "execution_count": 1,
      "metadata": {
        "id": "_FHkCw7pNWcN"
      },
      "outputs": [],
      "source": [
        "from io import BytesIO\n",
        "from zipfile import ZipFile\n",
        "from urllib.request import urlopen\n",
        "import re"
      ]
    },
    {
      "cell_type": "code",
      "source": [
        "all_data = []\n",
        "resp = urlopen(\"https://storage.googleapis.com/download.tensorflow.org/data/shakespeare.txt\")\n",
        "shakespear_100k = resp.read()\n",
        "shakespear_100k = shakespear_100k.decode('utf-8').lower()\n"
      ],
      "metadata": {
        "id": "XjoQlhCfNwU9"
      },
      "execution_count": 3,
      "outputs": []
    },
    {
      "cell_type": "code",
      "source": [
        "vocab2index = {}\n",
        "\n",
        "for char in shakespear_100k:\n",
        "  if char not in vocab2index:\n",
        "    vocab2index[char] = len(vocab2index)\n",
        "\n",
        "index2Vocab={}\n",
        "\n",
        "for k, v in vocab2index.items():\n",
        "  index2Vocab[v]=k\n",
        "\n",
        "\n",
        "print(\"Vocab Size \", len(vocab2index))\n",
        "print(\"Total text size \", len(shakespear_100k))\n",
        "\n"
      ],
      "metadata": {
        "colab": {
          "base_uri": "https://localhost:8080/"
        },
        "id": "CYb4ehGNREZz",
        "outputId": "bfe5b81e-260c-4dfb-e86a-c012ec6b8b49"
      },
      "execution_count": 5,
      "outputs": [
        {
          "output_type": "stream",
          "name": "stdout",
          "text": [
            "Vocab Size  39\n",
            "Total text size  1115394\n"
          ]
        }
      ]
    }
  ]
}