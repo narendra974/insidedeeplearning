{
  "nbformat": 4,
  "nbformat_minor": 0,
  "metadata": {
    "colab": {
      "name": "Untitled7.ipynb",
      "provenance": [],
      "authorship_tag": "ABX9TyPw4FbcsJVONhb+AwA8UBRb",
      "include_colab_link": true
    },
    "kernelspec": {
      "name": "python3",
      "display_name": "Python 3"
    },
    "language_info": {
      "name": "python"
    }
  },
  "cells": [
    {
      "cell_type": "markdown",
      "metadata": {
        "id": "view-in-github",
        "colab_type": "text"
      },
      "source": [
        "<a href=\"https://colab.research.google.com/github/narendra974/insidedeeplearning/blob/main/AutoRegressieveModel.ipynb\" target=\"_parent\"><img src=\"https://colab.research.google.com/assets/colab-badge.svg\" alt=\"Open In Colab\"/></a>"
      ]
    },
    {
      "cell_type": "code",
      "execution_count": 6,
      "metadata": {
        "id": "_FHkCw7pNWcN"
      },
      "outputs": [],
      "source": [
        "from io import BytesIO\n",
        "from zipfile import ZipFile\n",
        "from urllib.request import urlopen\n",
        "import re\n",
        "from torch.utils.data import Dataset, DataLoader\n",
        "import torch\n",
        "import torch.nn as nn"
      ]
    },
    {
      "cell_type": "code",
      "source": [
        "all_data = []\n",
        "resp = urlopen(\"https://storage.googleapis.com/download.tensorflow.org/data/shakespeare.txt\")\n",
        "shakespear_100k = resp.read()\n",
        "shakespear_100k = shakespear_100k.decode('utf-8').lower()\n"
      ],
      "metadata": {
        "id": "XjoQlhCfNwU9"
      },
      "execution_count": 2,
      "outputs": []
    },
    {
      "cell_type": "code",
      "source": [
        "vocab2index = {}\n",
        "\n",
        "for char in shakespear_100k:\n",
        "  if char not in vocab2index:\n",
        "    vocab2index[char] = len(vocab2index)\n",
        "\n",
        "index2Vocab={}\n",
        "\n",
        "for k, v in vocab2index.items():\n",
        "  index2Vocab[v]=k\n",
        "\n",
        "\n",
        "print(\"Vocab Size \", len(vocab2index))\n",
        "print(\"Total text size \", len(shakespear_100k))\n",
        "\n"
      ],
      "metadata": {
        "colab": {
          "base_uri": "https://localhost:8080/"
        },
        "id": "CYb4ehGNREZz",
        "outputId": "5100f39d-58f5-4a7e-e47a-31383d50d0ad"
      },
      "execution_count": 3,
      "outputs": [
        {
          "output_type": "stream",
          "name": "stdout",
          "text": [
            "Vocab Size  39\n",
            "Total text size  1115394\n"
          ]
        }
      ]
    },
    {
      "cell_type": "code",
      "source": [
        "class AutoRegressiveDataset(Dataset):\n",
        "\n",
        "  def __init__(self, large_string, max_chunk=500):\n",
        "    self.doc = large_string\n",
        "    self.max_chunk = max_chunk\n",
        "\n",
        "  def __len__(self):\n",
        "    return (len(self.doc)-1) // self.max_chunk\n",
        "\n",
        "  def __getitem__(self, idx):\n",
        "    start = idx * self.max_chunk\n",
        "    sub_string = self.doc[start:start+self.max_chunk]\n",
        "    x = [vocab2index(c) for c in sub_string]\n",
        "    sub_string_y = self.doc[start+1:start+self.max_chunk+1]\n",
        "    y = [vocab2index(c) for c in sub_string_y]\n",
        "    "
      ],
      "metadata": {
        "id": "aHSqHvh_dKEm"
      },
      "execution_count": 5,
      "outputs": []
    },
    {
      "cell_type": "code",
      "source": [
        "class AutoRegressiveModule(nn.Module):\n",
        "  \n",
        "  def __init__(self, num_embeddings, embd_size, hidden_size, layers=1):\n",
        "    super(AutoRegressiveModule, self).__init__()\n",
        "    self.hidden_size = hidden_size\n",
        "    self.embd = nn.Embedding(num_embeddings, embd_size)\n",
        "    self.layers = nn.ModuleList( [nn.GRUCell(embd_size, hidden_size)] + [nn.GRUCell(hidden_size, hidden_size) for i in range(layers-1)])\n",
        "    self.norms = nn.ModuleList([nn.LayerNorm(hidden_size) for i in range(layers)])\n",
        "    self.pred_class = nn.Sequential(\n",
        "        nn.Linear(hidden_size, hidden_size), \n",
        "        nn.LeakyReLU(),\n",
        "        nn.LayerNorm(hidden_size),\n",
        "        nn.Linear(hidden_size, num_embeddings)   \n",
        "    )"
      ],
      "metadata": {
        "id": "n23Lv2xWtc7I"
      },
      "execution_count": null,
      "outputs": []
    }
  ]
}