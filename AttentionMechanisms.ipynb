{
  "nbformat": 4,
  "nbformat_minor": 0,
  "metadata": {
    "colab": {
      "name": "Untitled2.ipynb",
      "provenance": [],
      "authorship_tag": "ABX9TyPq+WLpWa/Bzf/son4LQ5R9",
      "include_colab_link": true
    },
    "kernelspec": {
      "name": "python3",
      "display_name": "Python 3"
    },
    "language_info": {
      "name": "python"
    }
  },
  "cells": [
    {
      "cell_type": "markdown",
      "metadata": {
        "id": "view-in-github",
        "colab_type": "text"
      },
      "source": [
        "<a href=\"https://colab.research.google.com/github/narendra974/insidedeeplearning/blob/main/AttentionMechanisms.ipynb\" target=\"_parent\"><img src=\"https://colab.research.google.com/assets/colab-badge.svg\" alt=\"Open In Colab\"/></a>"
      ]
    },
    {
      "cell_type": "code",
      "execution_count": 3,
      "metadata": {
        "id": "poMUC2gu85A9"
      },
      "outputs": [],
      "source": [
        "import torch\n",
        "import torch.nn as nn\n",
        "import torch.nn.functional as F\n",
        "from torch.utils.data import Dataset, DataLoader\n",
        "from tqdm.autonotebook import tqdm\n",
        "import numpy as np\n",
        "import pandas as pd\n",
        "import time\n",
        "import matplotlib.pyplot as plt\n",
        "\n",
        "\n",
        "def run_epoch(model, optimizer, data_loader, loss_func, device, results, score_funcs, prefix=\"\", desc=None):\n",
        "    \"\"\"\n",
        "    model -- the PyTorch model / \"Module\" to run for one epoch\n",
        "    optimizer -- the object that will update the weights of the network\n",
        "    data_loader -- DataLoader object that returns tuples of (input, label) pairs. \n",
        "    loss_func -- the loss function that takes in two arguments, the model outputs and the labels, and returns a score\n",
        "    device -- the compute lodation to perform training\n",
        "    score_funcs -- a dictionary of scoring functions to use to evalue the performance of the model\n",
        "    prefix -- a string to pre-fix to any scores placed into the _results_ dictionary. \n",
        "    desc -- a description to use for the progress bar.     \n",
        "    \"\"\"\n",
        "    running_loss = []\n",
        "    y_true = []\n",
        "    y_pred = []\n",
        "    start = time.time()\n",
        "    for inputs, labels in tqdm(data_loader, desc=desc, leave=False):\n",
        "        #Move the batch to the device we are using. \n",
        "        inputs = moveTo(inputs, device)\n",
        "        labels = moveTo(labels, device)\n",
        "\n",
        "        y_hat = model(inputs) #this just computed f_Θ(x(i))\n",
        "        # Compute loss.\n",
        "        loss = loss_func(y_hat, labels)\n",
        "\n",
        "        if model.training:\n",
        "            loss.backward()\n",
        "            optimizer.step()\n",
        "            optimizer.zero_grad()\n",
        "\n",
        "        #Now we are just grabbing some information we would like to have\n",
        "        running_loss.append(loss.item())\n",
        "\n",
        "        if len(score_funcs) > 0 and isinstance(labels, torch.Tensor):\n",
        "            #moving labels & predictions back to CPU for computing / storing predictions\n",
        "            labels = labels.detach().cpu().numpy()\n",
        "            y_hat = y_hat.detach().cpu().numpy()\n",
        "            #add to predictions so far\n",
        "            y_true.extend(labels.tolist())\n",
        "            y_pred.extend(y_hat.tolist())\n",
        "    #end training epoch\n",
        "    end = time.time()\n",
        "    \n",
        "    y_pred = np.asarray(y_pred)\n",
        "    if len(y_pred.shape) == 2 and y_pred.shape[1] > 1: #We have a classification problem, convert to labels\n",
        "        y_pred = np.argmax(y_pred, axis=1)\n",
        "    #Else, we assume we are working on a regression problem\n",
        "    \n",
        "    results[prefix + \" loss\"].append( np.mean(running_loss) )\n",
        "    for name, score_func in score_funcs.items():\n",
        "        try:\n",
        "            results[prefix + \" \" + name].append( score_func(y_true, y_pred) )\n",
        "        except:\n",
        "            results[prefix + \" \" + name].append(float(\"NaN\"))\n",
        "    return end-start #time spent on epoch\n",
        "\n",
        "\n",
        "def train_simple_network(model, loss_func, train_loader, test_loader=None, score_funcs=None, \n",
        "                         epochs=50, device=\"cpu\", checkpoint_file=None, lr=0.001):\n",
        "    \"\"\"Train simple neural networks\n",
        "    \n",
        "    Keyword arguments:\n",
        "    model -- the PyTorch model / \"Module\" to train\n",
        "    loss_func -- the loss function that takes in batch in two arguments, the model outputs and the labels, and returns a score\n",
        "    train_loader -- PyTorch DataLoader object that returns tuples of (input, label) pairs. \n",
        "    test_loader -- Optional PyTorch DataLoader to evaluate on after every epoch\n",
        "    score_funcs -- A dictionary of scoring functions to use to evalue the performance of the model\n",
        "    epochs -- the number of training epochs to perform\n",
        "    device -- the compute lodation to perform training\n",
        "    \n",
        "    \"\"\"\n",
        "    to_track = [\"epoch\", \"total time\", \"train loss\"]\n",
        "    if test_loader is not None:\n",
        "        to_track.append(\"test loss\")\n",
        "    for eval_score in score_funcs:\n",
        "        to_track.append(\"train \" + eval_score )\n",
        "        if test_loader is not None:\n",
        "            to_track.append(\"test \" + eval_score )\n",
        "        \n",
        "    total_train_time = 0 #How long have we spent in the training loop? \n",
        "    results = {}\n",
        "    #Initialize every item with an empty list\n",
        "    for item in to_track:\n",
        "        results[item] = []\n",
        "        \n",
        "    #SGD is Stochastic Gradient Decent.\n",
        "    optimizer = torch.optim.SGD(model.parameters(), lr=0.001)\n",
        "    #Place the model on the correct compute resource (CPU or GPU)\n",
        "    model.to(device)\n",
        "    for epoch in tqdm(range(epochs), desc=\"Epoch\"):\n",
        "        model = model.train()#Put our model in training mode\n",
        "        \n",
        "        total_train_time += run_epoch(model, optimizer, train_loader, loss_func, device, results, score_funcs, prefix=\"train\", desc=\"Training\")\n",
        "\n",
        "        results[\"total time\"].append( total_train_time )\n",
        "        results[\"epoch\"].append( epoch )\n",
        "        \n",
        "        if test_loader is not None:\n",
        "            model = model.eval()\n",
        "            with torch.no_grad():\n",
        "                run_epoch(model, optimizer, test_loader, loss_func, device, results, score_funcs, prefix=\"test\", desc=\"Testing\")\n",
        "                    \n",
        "    if checkpoint_file is not None:\n",
        "        torch.save({\n",
        "            'epoch': epoch,\n",
        "            'model_state_dict': model.state_dict(),\n",
        "            'optimizer_state_dict': optimizer.state_dict(),\n",
        "            'results' : results\n",
        "            }, checkpoint_file)\n",
        "\n",
        "    return pd.DataFrame.from_dict(results)\n",
        "\n",
        "  "
      ]
    },
    {
      "cell_type": "code",
      "source": [
        "import torchvision\n",
        "import torchvision.transforms as transforms\n",
        "\n",
        "mnist_train = torchvision.datasets.MNIST(\"./\", train=True, transform=transforms.ToTensor(), download=True)\n",
        "mnist_test = torchvision.datasets.MNIST(\"./\", train=False, transform=transforms.ToTensor(), download=True)"
      ],
      "metadata": {
        "id": "SLUxB9FkTQQa"
      },
      "execution_count": 5,
      "outputs": []
    },
    {
      "cell_type": "code",
      "source": [
        "class LargestDigit() :\n",
        "\n",
        "  def __init__(self, dataset, toSample=3):\n",
        "    self.dataset = dataset\n",
        "    self.toSample = toSample\n",
        "\n",
        "  def __len__():\n",
        "    return len(self.dataset)\n",
        "\n",
        "  def __getitem__(self, idx):\n",
        "    selected = np.random.randint(0, len(self.dataset), size(self.toSample))\n",
        "    x_new = torch.stack([self.dataset[i][0] for i in selected])\n",
        "    y_new = max([self.dataset[i][1] for i in selected])\n",
        "    return x_new, y_new"
      ],
      "metadata": {
        "id": "4YsRW586Bg-8"
      },
      "execution_count": 6,
      "outputs": []
    },
    {
      "cell_type": "code",
      "source": [
        "B = 128\n",
        "epcochs = 10\n",
        "\n",
        "largest_train = LargestDigit(mnist_train)\n",
        "largest_test = LargestDigit(mnist_test)\n",
        "\n",
        "train_loader = DataLoader(largest_train, batch_size=B, shuffle=True)\n",
        "test_loader = DataLoader(largest_test, batch_size=B, shuffle=True)\n",
        "\n",
        "x, y = largest_train[0]\n",
        "\n",
        "f, axarr = plt.subplots(1, 3, figsize=(10, 10))\n",
        "for i in range(3):\n",
        "  axarr[i].imshow(x[i, 0, :].numpy(), cmap='gray', vmin=0, vmax=1)\n",
        "\n",
        "print('True label is ', y)"
      ],
      "metadata": {
        "colab": {
          "base_uri": "https://localhost:8080/",
          "height": 380
        },
        "id": "PuEO6J42Ezmb",
        "outputId": "346a4265-8adc-4e0c-ed85-0965888c816b"
      },
      "execution_count": 8,
      "outputs": [
        {
          "output_type": "error",
          "ename": "TypeError",
          "evalue": "ignored",
          "traceback": [
            "\u001b[0;31m---------------------------------------------------------------------------\u001b[0m",
            "\u001b[0;31mTypeError\u001b[0m                                 Traceback (most recent call last)",
            "\u001b[0;32m<ipython-input-8-852e06430963>\u001b[0m in \u001b[0;36m<module>\u001b[0;34m()\u001b[0m\n\u001b[1;32m      5\u001b[0m \u001b[0mlargest_test\u001b[0m \u001b[0;34m=\u001b[0m \u001b[0mLargestDigit\u001b[0m\u001b[0;34m(\u001b[0m\u001b[0mmnist_test\u001b[0m\u001b[0;34m)\u001b[0m\u001b[0;34m\u001b[0m\u001b[0;34m\u001b[0m\u001b[0m\n\u001b[1;32m      6\u001b[0m \u001b[0;34m\u001b[0m\u001b[0m\n\u001b[0;32m----> 7\u001b[0;31m \u001b[0mtrain_loader\u001b[0m \u001b[0;34m=\u001b[0m \u001b[0mDataLoader\u001b[0m\u001b[0;34m(\u001b[0m\u001b[0mlargest_train\u001b[0m\u001b[0;34m,\u001b[0m \u001b[0mbatch_size\u001b[0m\u001b[0;34m=\u001b[0m\u001b[0mB\u001b[0m\u001b[0;34m,\u001b[0m \u001b[0mshuffle\u001b[0m\u001b[0;34m=\u001b[0m\u001b[0;32mTrue\u001b[0m\u001b[0;34m)\u001b[0m\u001b[0;34m\u001b[0m\u001b[0;34m\u001b[0m\u001b[0m\n\u001b[0m\u001b[1;32m      8\u001b[0m \u001b[0mtest_loader\u001b[0m \u001b[0;34m=\u001b[0m \u001b[0mDataLoader\u001b[0m\u001b[0;34m(\u001b[0m\u001b[0mlargest_test\u001b[0m\u001b[0;34m,\u001b[0m \u001b[0mbatch_size\u001b[0m\u001b[0;34m=\u001b[0m\u001b[0mB\u001b[0m\u001b[0;34m,\u001b[0m \u001b[0mshuffle\u001b[0m\u001b[0;34m=\u001b[0m\u001b[0;32mTrue\u001b[0m\u001b[0;34m)\u001b[0m\u001b[0;34m\u001b[0m\u001b[0;34m\u001b[0m\u001b[0m\n\u001b[1;32m      9\u001b[0m \u001b[0;34m\u001b[0m\u001b[0m\n",
            "\u001b[0;32m/usr/local/lib/python3.7/dist-packages/torch/utils/data/dataloader.py\u001b[0m in \u001b[0;36m__init__\u001b[0;34m(self, dataset, batch_size, shuffle, sampler, batch_sampler, num_workers, collate_fn, pin_memory, drop_last, timeout, worker_init_fn, multiprocessing_context, generator, prefetch_factor, persistent_workers)\u001b[0m\n\u001b[1;32m    266\u001b[0m             \u001b[0;32melse\u001b[0m\u001b[0;34m:\u001b[0m  \u001b[0;31m# map-style\u001b[0m\u001b[0;34m\u001b[0m\u001b[0;34m\u001b[0m\u001b[0m\n\u001b[1;32m    267\u001b[0m                 \u001b[0;32mif\u001b[0m \u001b[0mshuffle\u001b[0m\u001b[0;34m:\u001b[0m\u001b[0;34m\u001b[0m\u001b[0;34m\u001b[0m\u001b[0m\n\u001b[0;32m--> 268\u001b[0;31m                     \u001b[0msampler\u001b[0m \u001b[0;34m=\u001b[0m \u001b[0mRandomSampler\u001b[0m\u001b[0;34m(\u001b[0m\u001b[0mdataset\u001b[0m\u001b[0;34m,\u001b[0m \u001b[0mgenerator\u001b[0m\u001b[0;34m=\u001b[0m\u001b[0mgenerator\u001b[0m\u001b[0;34m)\u001b[0m\u001b[0;34m\u001b[0m\u001b[0;34m\u001b[0m\u001b[0m\n\u001b[0m\u001b[1;32m    269\u001b[0m                 \u001b[0;32melse\u001b[0m\u001b[0;34m:\u001b[0m\u001b[0;34m\u001b[0m\u001b[0;34m\u001b[0m\u001b[0m\n\u001b[1;32m    270\u001b[0m                     \u001b[0msampler\u001b[0m \u001b[0;34m=\u001b[0m \u001b[0mSequentialSampler\u001b[0m\u001b[0;34m(\u001b[0m\u001b[0mdataset\u001b[0m\u001b[0;34m)\u001b[0m\u001b[0;34m\u001b[0m\u001b[0;34m\u001b[0m\u001b[0m\n",
            "\u001b[0;32m/usr/local/lib/python3.7/dist-packages/torch/utils/data/sampler.py\u001b[0m in \u001b[0;36m__init__\u001b[0;34m(self, data_source, replacement, num_samples, generator)\u001b[0m\n\u001b[1;32m     99\u001b[0m                              \"since a random permute will be performed.\")\n\u001b[1;32m    100\u001b[0m \u001b[0;34m\u001b[0m\u001b[0m\n\u001b[0;32m--> 101\u001b[0;31m         \u001b[0;32mif\u001b[0m \u001b[0;32mnot\u001b[0m \u001b[0misinstance\u001b[0m\u001b[0;34m(\u001b[0m\u001b[0mself\u001b[0m\u001b[0;34m.\u001b[0m\u001b[0mnum_samples\u001b[0m\u001b[0;34m,\u001b[0m \u001b[0mint\u001b[0m\u001b[0;34m)\u001b[0m \u001b[0;32mor\u001b[0m \u001b[0mself\u001b[0m\u001b[0;34m.\u001b[0m\u001b[0mnum_samples\u001b[0m \u001b[0;34m<=\u001b[0m \u001b[0;36m0\u001b[0m\u001b[0;34m:\u001b[0m\u001b[0;34m\u001b[0m\u001b[0;34m\u001b[0m\u001b[0m\n\u001b[0m\u001b[1;32m    102\u001b[0m             raise ValueError(\"num_samples should be a positive integer \"\n\u001b[1;32m    103\u001b[0m                              \"value, but got num_samples={}\".format(self.num_samples))\n",
            "\u001b[0;32m/usr/local/lib/python3.7/dist-packages/torch/utils/data/sampler.py\u001b[0m in \u001b[0;36mnum_samples\u001b[0;34m(self)\u001b[0m\n\u001b[1;32m    107\u001b[0m         \u001b[0;31m# dataset size might change at runtime\u001b[0m\u001b[0;34m\u001b[0m\u001b[0;34m\u001b[0m\u001b[0;34m\u001b[0m\u001b[0m\n\u001b[1;32m    108\u001b[0m         \u001b[0;32mif\u001b[0m \u001b[0mself\u001b[0m\u001b[0;34m.\u001b[0m\u001b[0m_num_samples\u001b[0m \u001b[0;32mis\u001b[0m \u001b[0;32mNone\u001b[0m\u001b[0;34m:\u001b[0m\u001b[0;34m\u001b[0m\u001b[0;34m\u001b[0m\u001b[0m\n\u001b[0;32m--> 109\u001b[0;31m             \u001b[0;32mreturn\u001b[0m \u001b[0mlen\u001b[0m\u001b[0;34m(\u001b[0m\u001b[0mself\u001b[0m\u001b[0;34m.\u001b[0m\u001b[0mdata_source\u001b[0m\u001b[0;34m)\u001b[0m\u001b[0;34m\u001b[0m\u001b[0;34m\u001b[0m\u001b[0m\n\u001b[0m\u001b[1;32m    110\u001b[0m         \u001b[0;32mreturn\u001b[0m \u001b[0mself\u001b[0m\u001b[0;34m.\u001b[0m\u001b[0m_num_samples\u001b[0m\u001b[0;34m\u001b[0m\u001b[0;34m\u001b[0m\u001b[0m\n\u001b[1;32m    111\u001b[0m \u001b[0;34m\u001b[0m\u001b[0m\n",
            "\u001b[0;31mTypeError\u001b[0m: __len__() takes 0 positional arguments but 1 was given"
          ]
        }
      ]
    },
    {
      "cell_type": "code",
      "source": [
        "import torch.nn as nn\n",
        "\n",
        "neurons = 256\n",
        "classes = 10\n",
        "\n",
        "simpleNet = nn.Sequential(\n",
        "    nn.Flatten(), \n",
        "    nn.\n",
        ")"
      ],
      "metadata": {
        "id": "EhQIX5JcW6cN"
      },
      "execution_count": null,
      "outputs": []
    },
    {
      "cell_type": "code",
      "source": [
        ""
      ],
      "metadata": {
        "id": "6C1aTnKBTLfA"
      },
      "execution_count": null,
      "outputs": []
    },
    {
      "cell_type": "code",
      "source": [
        ""
      ],
      "metadata": {
        "id": "PJc0TPw9TLkn"
      },
      "execution_count": null,
      "outputs": []
    },
    {
      "cell_type": "code",
      "source": [
        ""
      ],
      "metadata": {
        "id": "BJ7tewXQTM24"
      },
      "execution_count": null,
      "outputs": []
    }
  ]
}